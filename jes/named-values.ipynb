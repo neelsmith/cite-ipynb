{
 "cells": [
  {
   "cell_type": "markdown",
   "metadata": {},
   "source": [
    "# Named values in Scala\n",
    "\n",
    "\n",
    "## Background\n",
    "\n",
    "Read about [named values in Scala](https://neelsmith.github.io//cite-ipynb/jes/named-values/).\n",
    "\n",
    "Run the following cell.  In the resulting output, identify the name, type and content of each named value.  How does the display of different types of content differ?"
   ]
  },
  {
   "cell_type": "code",
   "execution_count": 4,
   "metadata": {},
   "outputs": [
    {
     "data": {
      "text/plain": [
       "\u001b[36mcite\u001b[39m: \u001b[32mString\u001b[39m = \u001b[32m\"CITE Architecture\"\u001b[39m\n",
       "\u001b[36mexpectedSize\u001b[39m: \u001b[32mInt\u001b[39m = \u001b[32m17\u001b[39m\n",
       "\u001b[36msizeMatches\u001b[39m: \u001b[32mBoolean\u001b[39m = false"
      ]
     },
     "execution_count": 4,
     "metadata": {},
     "output_type": "execute_result"
    }
   ],
   "source": [
    "val cite = \"CITE Architecture\"\n",
    "val expectedSize = 17\n",
    "val sizeMatches = (cite == expectedSize)"
   ]
  },
  {
   "cell_type": "markdown",
   "metadata": {},
   "source": [
    "## Worksheet\n",
    "\n",
    "1. Define a named `String` value with the content \"Jupyter notebooks\".  Define a named `Int` value recording the size of this string.\n",
    "2. Use the `+` function to add the size of this new string to the size of the previously defined value `cite`, and record the total in a named `Int` value.\n",
    "3. Use the `+` function to concatenate three items:  the named value `cite`, the literal string `\" in \"` and the string value you created in step 1.\n",
    "\n",
    "What happens if you try to apply the `+` function to a Boolean value?"
   ]
  },
  {
   "cell_type": "code",
   "execution_count": 4,
   "metadata": {},
   "outputs": [],
   "source": [
    "// 1. Naming values:\n",
    "\n",
    "// 2.  Adding integers:\n",
    "\n",
    "// 3.  Concatenating strings:"
   ]
  }
 ],
 "metadata": {
  "kernelspec": {
   "display_name": "Scala 2.12",
   "language": "scala",
   "name": "scala212"
  },
  "language_info": {
   "codemirror_mode": "text/x-scala",
   "file_extension": ".scala",
   "mimetype": "text/x-scala",
   "name": "scala",
   "nbconvert_exporter": "script",
   "version": "2.12.10"
  }
 },
 "nbformat": 4,
 "nbformat_minor": 2
}
